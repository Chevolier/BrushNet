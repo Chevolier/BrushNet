{
 "cells": [
  {
   "cell_type": "markdown",
   "id": "97e78294-3a93-4f1b-8070-f8d2d138504b",
   "metadata": {},
   "source": [
    "# Text to Fashion Images"
   ]
  },
  {
   "cell_type": "markdown",
   "id": "3a473fe8-ef6b-49a4-b7d2-d96600d9163d",
   "metadata": {},
   "source": [
    "## 1. Upload data to S3\n",
    "Here I use pokeman dataset as an example, which is composed of 833 image-text pairs. To scale up, you can just process your data into the same format."
   ]
  },
  {
   "cell_type": "code",
   "execution_count": 1,
   "id": "5f972fb3-9c30-4c5c-adea-36ed78e38d4a",
   "metadata": {
    "tags": []
   },
   "outputs": [
    {
     "name": "stdout",
     "output_type": "stream",
     "text": [
      "sagemaker.config INFO - Not applying SDK defaults from location: /etc/xdg/sagemaker/config.yaml\n",
      "sagemaker.config INFO - Not applying SDK defaults from location: /home/ec2-user/.config/sagemaker/config.yaml\n"
     ]
    }
   ],
   "source": [
    "import sagemaker\n",
    "import boto3\n",
    "import datetime\n",
    "import json\n",
    "import os"
   ]
  },
  {
   "cell_type": "code",
   "execution_count": 2,
   "id": "f56b6cc0-322e-472d-8dd3-772a94305cf9",
   "metadata": {
    "tags": []
   },
   "outputs": [],
   "source": [
    "sagemaker_session = sagemaker.Session()\n",
    "\n",
    "bucket = sagemaker_session.default_bucket()\n",
    "\n",
    "role = sagemaker.get_execution_role()\n",
    "\n",
    "prefix_train = 'datasets/heguan_reformed'\n",
    "inputs_train = 's3://sagemaker-us-west-2-452145973879/datasets/heguan_reformed/'\n",
    "\n",
    "# local_data_path = \"example_data\"\n",
    "# local_data_path = \"../data/heguan-reformed\"\n",
    "# inputs_train = sagemaker_session.upload_data(path=local_data_path, key_prefix=prefix_train)\n",
    "# print(inputs_train)\n",
    "\n",
    "# prefix_test = 'datasets/brushnet_test'\n",
    "# inputs_train = sagemaker_session.upload_data(path = \"test_data\", key_prefix=prefix_train)\n",
    "# print(inputs_train)"
   ]
  },
  {
   "cell_type": "markdown",
   "id": "dc31ccb1-e849-43e0-85eb-9dd8b8984fa5",
   "metadata": {},
   "source": [
    "## 2. Upload checkpoints to S3"
   ]
  },
  {
   "cell_type": "code",
   "execution_count": 3,
   "id": "35dcff89-e473-497b-bc7a-4e333fbcc706",
   "metadata": {
    "tags": []
   },
   "outputs": [],
   "source": [
    "# prefix_base_model = 'checkpoints/realisticVisionV60B1_v51VAE'\n",
    "# inputs_base_model = sagemaker_session.upload_data(path=\"ckpt/realisticVisionV60B1_v51VAE\", key_prefix=prefix_base_model)\n",
    "# print(inputs_base_model)"
   ]
  },
  {
   "cell_type": "code",
   "execution_count": 4,
   "id": "b32d48ff-f9da-4f88-b60e-2b42daee8620",
   "metadata": {
    "tags": []
   },
   "outputs": [],
   "source": [
    "# prefix_base_model = 'checkpoints/sd15_urbanicv2'\n",
    "# inputs_base_model = sagemaker_session.upload_data(path=\"../data/ckpt/sd15_urbanicv2\", key_prefix=prefix_base_model)\n",
    "# print(inputs_base_model)"
   ]
  },
  {
   "cell_type": "code",
   "execution_count": 5,
   "id": "2a3e05de-db74-47d6-a68d-506c5e6fc648",
   "metadata": {
    "tags": []
   },
   "outputs": [],
   "source": [
    "# prefix_brushnet_model = 'checkpoints/random_mask_brushnet_ckpt'\n",
    "# inputs_brushnet_model = sagemaker_session.upload_data(path=\"ckpt/random_mask_brushnet_ckpt\", key_prefix=prefix_brushnet_model)\n",
    "# print(inputs_brushnet_model)"
   ]
  },
  {
   "cell_type": "markdown",
   "id": "417bb61d-6527-4707-9cbb-185c89b51008",
   "metadata": {},
   "source": [
    "## 2. Start a training job"
   ]
  },
  {
   "cell_type": "code",
   "execution_count": null,
   "id": "f8a06ebc-ab38-48b6-9e9e-9c3f0145440e",
   "metadata": {
    "scrolled": true,
    "tags": []
   },
   "outputs": [
    {
     "name": "stderr",
     "output_type": "stream",
     "text": [
      "INFO:sagemaker:Creating training-job with name: brushnet-launch-2024-04-26-23-18-48-123\n"
     ]
    },
    {
     "name": "stdout",
     "output_type": "stream",
     "text": [
      "2024-04-26 23:20:45 Starting - Starting the training job...\n",
      "2024-04-26 23:20:53 Pending - Training job waiting for capacity...\n",
      "2024-04-26 23:21:18 Pending - Preparing the instances for training........................\n",
      "2024-04-26 23:25:43 Downloading - Downloading input data............\n",
      "2024-04-26 23:27:29 Downloading - Downloading the training image..."
     ]
    }
   ],
   "source": [
    "import time\n",
    "from sagemaker.estimator import Estimator\n",
    "\n",
    "region = sagemaker_session.boto_session.region_name\n",
    "\n",
    "image_uri = f'763104351884.dkr.ecr.{region}.amazonaws.com/pytorch-training:1.13.1-gpu-py39-cu117-ubuntu20.04-sagemaker'\n",
    "\n",
    "instance_count = 1\n",
    "# instance_type = 'ml.g5.12xlarge'\n",
    "instance_type = 'ml.p4d.24xlarge' ## p4d - 8*40G / p4de - 8*80G\n",
    "# instance_type = 'ml.g5.48xlarge'\n",
    "\n",
    "#     'TRAIN_DIR': '/opt/ml/input/data/train'\n",
    "environment = {\n",
    "    'NODE_NUMBER': str(instance_count),\n",
    "    'TRAIN_DATA_PATH': f's3://{bucket}/{prefix_train}/',\n",
    "#    'TEST_DATA_PATH': f's3://{bucket}/{prefix_test}/',\n",
    "    'BASE_MODEL_S3_PATH': f's3://{bucket}/checkpoints/sd15_urbanicv2/', # realisticVisionV60B1_v51VAE/',  # \n",
    "    'BRUSHNET_MODEL_S3_PATH': f's3://{bucket}/checkpoints/random_mask_brushnet_ckpt/', \n",
    "    'OUTPUT_MODEL_S3_PATH': f's3://{bucket}/checkpoints/BrushNet_urbanic_random_custom_resume60k/', # destination\n",
    "    'LATEST_CHECKPOINT_S3_PATH': f's3://{bucket}/checkpoints/BrushNet_urbanic_random_custommask/checkpoint-60000/'# f's3://{bucket}/checkpoints/BrushNet_ml.p4d.24xlarge_1_urbanicv2/checkpoint-20000/'\n",
    "#     'OUTPUT_DIR': '/opt/ml/model'\n",
    "}\n",
    "\n",
    "estimator = Estimator(role=role,\n",
    "                      entry_point='entry.py',\n",
    "                      source_dir='./sm_scripts',\n",
    "                      base_job_name='brushnet-launch',\n",
    "                      instance_count=instance_count,\n",
    "                      instance_type=instance_type,\n",
    "                      image_uri=image_uri,\n",
    "                      environment=environment,\n",
    "                      max_run=3*24*3600, #任务最大存续时间，默认2day，需要提交ticket提升quota最大28天\n",
    "                      disable_profiler=True,\n",
    "                      debugger_hook_config=False)\n",
    "\n",
    "estimator.fit({'train': inputs_train})"
   ]
  },
  {
   "cell_type": "code",
   "execution_count": null,
   "id": "4124e1c3-9f2f-4c6f-8f49-43311180565a",
   "metadata": {},
   "outputs": [],
   "source": []
  }
 ],
 "metadata": {
  "kernelspec": {
   "display_name": "conda_pytorch_p310",
   "language": "python",
   "name": "conda_pytorch_p310"
  },
  "language_info": {
   "codemirror_mode": {
    "name": "ipython",
    "version": 3
   },
   "file_extension": ".py",
   "mimetype": "text/x-python",
   "name": "python",
   "nbconvert_exporter": "python",
   "pygments_lexer": "ipython3",
   "version": "3.10.14"
  }
 },
 "nbformat": 4,
 "nbformat_minor": 5
}
